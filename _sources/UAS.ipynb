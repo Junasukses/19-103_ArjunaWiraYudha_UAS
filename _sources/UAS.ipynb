{
 "cells": [
  {
   "cell_type": "markdown",
   "id": "32c7efb0",
   "metadata": {},
   "source": [
    "# UAS PPW : K-Means Clustring Dan Topik Modeling LSA"
   ]
  },
  {
   "cell_type": "markdown",
   "id": "e7b23cd2",
   "metadata": {},
   "source": [
    "# Crawling Data"
   ]
  },
  {
   "cell_type": "markdown",
   "id": "5312c0b9",
   "metadata": {},
   "source": [
    "Crawling data adalah suatu teknik untuk mengumpulkan data secara cepat dengan menggunakan url sebagai target data yang akan dikumpulkan. Untuk mengumpulkan data bisa menggunakan berbagai tools atau library yang ada, salah satunya adalah Scrappy. Scrapy adalah framework dari python yang berspesialis dalam melakukan web scraping dalam sekala besar, untuk menggunakan scrapy pertama kita install dahulu Scrapy dengan menggunakan pip"
   ]
  },
  {
   "cell_type": "markdown",
   "id": "1cd5e660",
   "metadata": {},
   "source": [
    "## Install Library"
   ]
  },
  {
   "cell_type": "markdown",
   "id": "60a2d27a",
   "metadata": {},
   "source": [
    "Library yang perlu diinstal untuk crawling data ada dua yaitu, Scrapy dan nltk"
   ]
  },
  {
   "cell_type": "code",
   "execution_count": 49,
   "id": "f2094181",
   "metadata": {},
   "outputs": [
    {
     "name": "stdout",
     "output_type": "stream",
     "text": [
      "Requirement already satisfied: Scrapy in c:\\users\\asus a456ur\\appdata\\local\\programs\\python\\python310\\lib\\site-packages (2.6.1)\n",
      "Requirement already satisfied: itemloaders>=1.0.1 in c:\\users\\asus a456ur\\appdata\\local\\programs\\python\\python310\\lib\\site-packages (from Scrapy) (1.0.4)\n",
      "Requirement already satisfied: cryptography>=2.0 in c:\\users\\asus a456ur\\appdata\\local\\programs\\python\\python310\\lib\\site-packages (from Scrapy) (36.0.1)\n",
      "Requirement already satisfied: setuptools in c:\\users\\asus a456ur\\appdata\\local\\programs\\python\\python310\\lib\\site-packages (from Scrapy) (58.1.0)\n",
      "Requirement already satisfied: itemadapter>=0.1.0 in c:\\users\\asus a456ur\\appdata\\local\\programs\\python\\python310\\lib\\site-packages (from Scrapy) (0.4.0)\n",
      "Requirement already satisfied: cssselect>=0.9.1 in c:\\users\\asus a456ur\\appdata\\local\\programs\\python\\python310\\lib\\site-packages (from Scrapy) (1.1.0)\n",
      "Requirement already satisfied: queuelib>=1.4.2 in c:\\users\\asus a456ur\\appdata\\local\\programs\\python\\python310\\lib\\site-packages (from Scrapy) (1.6.2)\n",
      "Requirement already satisfied: service-identity>=16.0.0 in c:\\users\\asus a456ur\\appdata\\local\\programs\\python\\python310\\lib\\site-packages (from Scrapy) (21.1.0)\n",
      "Requirement already satisfied: zope.interface>=4.1.3 in c:\\users\\asus a456ur\\appdata\\local\\programs\\python\\python310\\lib\\site-packages (from Scrapy) (5.4.0)\n",
      "Requirement already satisfied: pyOpenSSL>=16.2.0 in c:\\users\\asus a456ur\\appdata\\local\\programs\\python\\python310\\lib\\site-packages (from Scrapy) (22.0.0)\n",
      "Requirement already satisfied: tldextract in c:\\users\\asus a456ur\\appdata\\local\\programs\\python\\python310\\lib\\site-packages (from Scrapy) (3.2.0)\n",
      "Requirement already satisfied: lxml>=3.5.0 in c:\\users\\asus a456ur\\appdata\\local\\programs\\python\\python310\\lib\\site-packages (from Scrapy) (4.8.0)\n",
      "Requirement already satisfied: protego>=0.1.15 in c:\\users\\asus a456ur\\appdata\\local\\programs\\python\\python310\\lib\\site-packages (from Scrapy) (0.2.1)\n",
      "Requirement already satisfied: w3lib>=1.17.0 in c:\\users\\asus a456ur\\appdata\\local\\programs\\python\\python310\\lib\\site-packages (from Scrapy) (1.22.0)\n",
      "Requirement already satisfied: PyDispatcher>=2.0.5 in c:\\users\\asus a456ur\\appdata\\local\\programs\\python\\python310\\lib\\site-packages (from Scrapy) (2.0.5)\n",
      "Requirement already satisfied: parsel>=1.5.0 in c:\\users\\asus a456ur\\appdata\\local\\programs\\python\\python310\\lib\\site-packages (from Scrapy) (1.6.0)\n",
      "Requirement already satisfied: Twisted>=17.9.0 in c:\\users\\asus a456ur\\appdata\\local\\programs\\python\\python310\\lib\\site-packages (from Scrapy) (22.2.0)\n",
      "Requirement already satisfied: cffi>=1.12 in c:\\users\\asus a456ur\\appdata\\local\\programs\\python\\python310\\lib\\site-packages (from cryptography>=2.0->Scrapy) (1.15.0)\n",
      "Requirement already satisfied: jmespath>=0.9.5 in c:\\users\\asus a456ur\\appdata\\local\\programs\\python\\python310\\lib\\site-packages (from itemloaders>=1.0.1->Scrapy) (0.10.0)\n",
      "Requirement already satisfied: six>=1.6.0 in c:\\users\\asus a456ur\\appdata\\local\\programs\\python\\python310\\lib\\site-packages (from parsel>=1.5.0->Scrapy) (1.16.0)\n",
      "Requirement already satisfied: attrs>=19.1.0 in c:\\users\\asus a456ur\\appdata\\local\\programs\\python\\python310\\lib\\site-packages (from service-identity>=16.0.0->Scrapy) (21.4.0)\n",
      "Requirement already satisfied: pyasn1 in c:\\users\\asus a456ur\\appdata\\local\\programs\\python\\python310\\lib\\site-packages (from service-identity>=16.0.0->Scrapy) (0.4.8)\n",
      "Requirement already satisfied: pyasn1-modules in c:\\users\\asus a456ur\\appdata\\local\\programs\\python\\python310\\lib\\site-packages (from service-identity>=16.0.0->Scrapy) (0.2.8)\n",
      "Requirement already satisfied: constantly>=15.1 in c:\\users\\asus a456ur\\appdata\\local\\programs\\python\\python310\\lib\\site-packages (from Twisted>=17.9.0->Scrapy) (15.1.0)\n",
      "Requirement already satisfied: Automat>=0.8.0 in c:\\users\\asus a456ur\\appdata\\local\\programs\\python\\python310\\lib\\site-packages (from Twisted>=17.9.0->Scrapy) (20.2.0)\n",
      "Requirement already satisfied: incremental>=21.3.0 in c:\\users\\asus a456ur\\appdata\\local\\programs\\python\\python310\\lib\\site-packages (from Twisted>=17.9.0->Scrapy) (21.3.0)\n",
      "Requirement already satisfied: hyperlink>=17.1.1 in c:\\users\\asus a456ur\\appdata\\local\\programs\\python\\python310\\lib\\site-packages (from Twisted>=17.9.0->Scrapy) (21.0.0)\n",
      "Requirement already satisfied: twisted-iocpsupport<2,>=1.0.2 in c:\\users\\asus a456ur\\appdata\\local\\programs\\python\\python310\\lib\\site-packages (from Twisted>=17.9.0->Scrapy) (1.0.2)\n",
      "Requirement already satisfied: typing-extensions>=3.6.5 in c:\\users\\asus a456ur\\appdata\\local\\programs\\python\\python310\\lib\\site-packages (from Twisted>=17.9.0->Scrapy) (4.1.1)\n",
      "Requirement already satisfied: requests>=2.1.0 in c:\\users\\asus a456ur\\appdata\\local\\programs\\python\\python310\\lib\\site-packages (from tldextract->Scrapy) (2.27.1)\n",
      "Requirement already satisfied: requests-file>=1.4 in c:\\users\\asus a456ur\\appdata\\local\\programs\\python\\python310\\lib\\site-packages (from tldextract->Scrapy) (1.5.1)\n",
      "Requirement already satisfied: filelock>=3.0.8 in c:\\users\\asus a456ur\\appdata\\local\\programs\\python\\python310\\lib\\site-packages (from tldextract->Scrapy) (3.6.0)\n",
      "Requirement already satisfied: idna in c:\\users\\asus a456ur\\appdata\\local\\programs\\python\\python310\\lib\\site-packages (from tldextract->Scrapy) (3.3)\n",
      "Requirement already satisfied: pycparser in c:\\users\\asus a456ur\\appdata\\local\\programs\\python\\python310\\lib\\site-packages (from cffi>=1.12->cryptography>=2.0->Scrapy) (2.21)\n",
      "Requirement already satisfied: charset-normalizer~=2.0.0 in c:\\users\\asus a456ur\\appdata\\local\\programs\\python\\python310\\lib\\site-packages (from requests>=2.1.0->tldextract->Scrapy) (2.0.12)\n",
      "Requirement already satisfied: certifi>=2017.4.17 in c:\\users\\asus a456ur\\appdata\\local\\programs\\python\\python310\\lib\\site-packages (from requests>=2.1.0->tldextract->Scrapy) (2021.10.8)\n",
      "Requirement already satisfied: urllib3<1.27,>=1.21.1 in c:\\users\\asus a456ur\\appdata\\local\\programs\\python\\python310\\lib\\site-packages (from requests>=2.1.0->tldextract->Scrapy) (1.26.8)\n",
      "Note: you may need to restart the kernel to use updated packages.\n"
     ]
    },
    {
     "name": "stderr",
     "output_type": "stream",
     "text": [
      "WARNING: You are using pip version 22.0.4; however, version 22.1.2 is available.\n",
      "You should consider upgrading via the 'C:\\Users\\ASUS A456UR\\AppData\\Local\\Programs\\Python\\Python310\\python.exe -m pip install --upgrade pip' command.\n"
     ]
    }
   ],
   "source": [
    "pip install Scrapy"
   ]
  },
  {
   "cell_type": "code",
   "execution_count": 50,
   "id": "6533454a",
   "metadata": {},
   "outputs": [
    {
     "name": "stdout",
     "output_type": "stream",
     "text": [
      "Requirement already satisfied: nltk in c:\\users\\asus a456ur\\appdata\\local\\programs\\python\\python310\\lib\\site-packages (3.7)\n",
      "Requirement already satisfied: tqdm in c:\\users\\asus a456ur\\appdata\\local\\programs\\python\\python310\\lib\\site-packages (from nltk) (4.63.0)\n",
      "Requirement already satisfied: click in c:\\users\\asus a456ur\\appdata\\local\\programs\\python\\python310\\lib\\site-packages (from nltk) (8.0.4)\n",
      "Requirement already satisfied: regex>=2021.8.3 in c:\\users\\asus a456ur\\appdata\\local\\programs\\python\\python310\\lib\\site-packages (from nltk) (2022.3.15)\n",
      "Requirement already satisfied: joblib in c:\\users\\asus a456ur\\appdata\\local\\programs\\python\\python310\\lib\\site-packages (from nltk) (1.1.0)\n",
      "Requirement already satisfied: colorama in c:\\users\\asus a456ur\\appdata\\local\\programs\\python\\python310\\lib\\site-packages (from click->nltk) (0.4.4)\n",
      "Note: you may need to restart the kernel to use updated packages.\n"
     ]
    },
    {
     "name": "stderr",
     "output_type": "stream",
     "text": [
      "WARNING: You are using pip version 22.0.4; however, version 22.1.2 is available.\n",
      "You should consider upgrading via the 'C:\\Users\\ASUS A456UR\\AppData\\Local\\Programs\\Python\\Python310\\python.exe -m pip install --upgrade pip' command.\n"
     ]
    }
   ],
   "source": [
    "pip install --user -U nltk"
   ]
  },
  {
   "cell_type": "markdown",
   "id": "e4c249cf",
   "metadata": {},
   "source": [
    "## Import Library"
   ]
  },
  {
   "cell_type": "markdown",
   "id": "4fa5cb3f",
   "metadata": {},
   "source": [
    "Sesudah install library yang dibutuhkan, selanjutnya kita import librarynya (untuk re sudah terinstall otomatis ketika install python)"
   ]
  },
  {
   "cell_type": "code",
   "execution_count": 51,
   "id": "c91e8b6a",
   "metadata": {},
   "outputs": [],
   "source": [
    "import scrapy\n",
    "import nltk\n",
    "import re"
   ]
  },
  {
   "cell_type": "markdown",
   "id": "1d831d87",
   "metadata": {},
   "source": [
    "## Melakukan Crawling"
   ]
  },
  {
   "cell_type": "markdown",
   "id": "1f15b770",
   "metadata": {},
   "source": [
    "Sesudah import library yang dibutuhkan, selanjutnya melakukan tahap crawling. Disini tahap Crawl saya simpan di class QuotesSpider. Variabel start_urls berfungsi untuk menampung target url, dimana start_url akan mendapatkan data dari tahap looping \"for page in range(1,208)\". Function parse memiliki peran melakukan scrap pada element html mana, sedangkan function parse_detail memiliki peran untuk menargetkan secara spesifik seperti : \n",
    "<ul>\n",
    "    <li>Mengambil text htmlnya atau mengambil Linknya</li>\n",
    "    <li>Membuang elemen yang tidak digunakan</li>\n",
    "    <li>Mereplace kata yang tidak digunakan dengan kata yang ingin digunakan</li>\n",
    "</ul>"
   ]
  },
  {
   "cell_type": "code",
   "execution_count": 52,
   "id": "00bf6bd4",
   "metadata": {},
   "outputs": [],
   "source": [
    "class QuotesSpider(scrapy.Spider):\n",
    "    name = \"quotes\"\n",
    "    start_urls = []\n",
    "    def __init__(self):\n",
    "        url = 'https://pta.trunojoyo.ac.id/c_search/byprod/7/'\n",
    "        for page in range(1,208):\n",
    "            self.start_urls.append(url+str(page))\n",
    "\n",
    "    def parse(self, response):\n",
    "        for detail in response.css('a.gray.button::attr(href)'): \n",
    "            yield response.follow(detail.get(), callback = self.parse_detail)\n",
    "\n",
    "    def parse_detail(self, response):\n",
    "        for data in response.css('#content_journal > ul > li'):\n",
    "            yield{\n",
    "                'Judul': data.css('div:nth-child(2) > a::text').get(),\n",
    "                'Penulis': data.css('div:nth-child(2) > span::text').get().replace('Penulis : ', ''),\n",
    "                'Dospem 1': data.css('div:nth-child(3) > span::text').get().replace('Dosen Pembimbing I : ', ''),\n",
    "                'Dospem 2': data.css('div:nth-child(4) > span::text').get().replace('Dosen Pembimbing II :', ''),\n",
    "                'Abstraksi': data.css('div:nth-child(2) > p::text').get().replace('\\n\\n|\\n','').replace('ABSTRAK', ''),\n",
    "                'Abstraction': data.css('div:nth-child(4) > p::text').get().replace('\\n\\n|\\n','').replace('ABSTRACT', ''),\n",
    "                'Link Download': data.css('div:nth-child(5) > a:nth-child(1)::attr(href)').get().replace('.pdf-0.jpg', '.pdf'),\n",
    "            }"
   ]
  },
  {
   "cell_type": "markdown",
   "id": "60bee6c3",
   "metadata": {},
   "source": [
    "Silahkan save codenya dan buka cmd, pastikan terbuka di folder yang ada file scrapingnya. Kemudian jalankan perintah ini di cmd untuk memproses dan menyimpan ke csv \"scrapy runspider namaFile.py -o namaFileKetikaDiSaveUlang.csv\""
   ]
  },
  {
   "cell_type": "markdown",
   "id": "5277f1e6",
   "metadata": {},
   "source": [
    "# Preprocessing Data (Stopword, Filtering, TF-IDF)"
   ]
  },
  {
   "cell_type": "markdown",
   "id": "9d8e06a9",
   "metadata": {},
   "source": [
    "Preprocessing Data adalah suatu teknik untuk merubah data mentah atau raw data menajdi informasi yang bersih dan agar bisa digunakan untuk pengolahan lanjutan pada data mining. Pada pembahasan ini Preprocessing Data akan dilakukan dalam 3 tahap, yaitu :\n",
    "<ol>\n",
    "    <li>Stop Word</li>\n",
    "    <li>Cleaning Data</li>\n",
    "    <li>TF-IDF</li>\n",
    "</ol>"
   ]
  },
  {
   "cell_type": "markdown",
   "id": "6b192a12",
   "metadata": {},
   "source": [
    "## Install Library"
   ]
  },
  {
   "cell_type": "markdown",
   "id": "4d878f9a",
   "metadata": {},
   "source": [
    "Library yang perlu diinstall untuk melakukan preprocesing data ada dua yaitu, nltk dan scikit learn"
   ]
  },
  {
   "cell_type": "code",
   "execution_count": 53,
   "id": "f71202cd",
   "metadata": {},
   "outputs": [
    {
     "name": "stdout",
     "output_type": "stream",
     "text": [
      "Requirement already satisfied: nltk in c:\\users\\asus a456ur\\appdata\\local\\programs\\python\\python310\\lib\\site-packages (3.7)\n",
      "Requirement already satisfied: joblib in c:\\users\\asus a456ur\\appdata\\local\\programs\\python\\python310\\lib\\site-packages (from nltk) (1.1.0)\n",
      "Requirement already satisfied: click in c:\\users\\asus a456ur\\appdata\\local\\programs\\python\\python310\\lib\\site-packages (from nltk) (8.0.4)\n",
      "Requirement already satisfied: tqdm in c:\\users\\asus a456ur\\appdata\\local\\programs\\python\\python310\\lib\\site-packages (from nltk) (4.63.0)\n",
      "Requirement already satisfied: regex>=2021.8.3 in c:\\users\\asus a456ur\\appdata\\local\\programs\\python\\python310\\lib\\site-packages (from nltk) (2022.3.15)\n",
      "Requirement already satisfied: colorama in c:\\users\\asus a456ur\\appdata\\local\\programs\\python\\python310\\lib\\site-packages (from click->nltk) (0.4.4)\n",
      "Note: you may need to restart the kernel to use updated packages.\n"
     ]
    },
    {
     "name": "stderr",
     "output_type": "stream",
     "text": [
      "WARNING: You are using pip version 22.0.4; however, version 22.1.2 is available.\n",
      "You should consider upgrading via the 'C:\\Users\\ASUS A456UR\\AppData\\Local\\Programs\\Python\\Python310\\python.exe -m pip install --upgrade pip' command.\n"
     ]
    }
   ],
   "source": [
    "pip install --user -U nltk"
   ]
  },
  {
   "cell_type": "code",
   "execution_count": 54,
   "id": "6295ddbc",
   "metadata": {},
   "outputs": [
    {
     "name": "stdout",
     "output_type": "stream",
     "text": [
      "Requirement already satisfied: scikit-learn in c:\\users\\asus a456ur\\appdata\\local\\programs\\python\\python310\\lib\\site-packages (1.1.1)\n",
      "Requirement already satisfied: numpy>=1.17.3 in c:\\users\\asus a456ur\\appdata\\local\\programs\\python\\python310\\lib\\site-packages (from scikit-learn) (1.22.3)\n",
      "Requirement already satisfied: scipy>=1.3.2 in c:\\users\\asus a456ur\\appdata\\local\\programs\\python\\python310\\lib\\site-packages (from scikit-learn) (1.8.0)\n",
      "Requirement already satisfied: threadpoolctl>=2.0.0 in c:\\users\\asus a456ur\\appdata\\local\\programs\\python\\python310\\lib\\site-packages (from scikit-learn) (3.1.0)\n",
      "Requirement already satisfied: joblib>=1.0.0 in c:\\users\\asus a456ur\\appdata\\local\\programs\\python\\python310\\lib\\site-packages (from scikit-learn) (1.1.0)\n",
      "Note: you may need to restart the kernel to use updated packages.\n"
     ]
    },
    {
     "name": "stderr",
     "output_type": "stream",
     "text": [
      "WARNING: You are using pip version 22.0.4; however, version 22.1.2 is available.\n",
      "You should consider upgrading via the 'C:\\Users\\ASUS A456UR\\AppData\\Local\\Programs\\Python\\Python310\\python.exe -m pip install --upgrade pip' command.\n"
     ]
    }
   ],
   "source": [
    "pip install -U scikit-learn"
   ]
  },
  {
   "cell_type": "markdown",
   "id": "3d41ddc4",
   "metadata": {},
   "source": [
    "## Import Library"
   ]
  },
  {
   "cell_type": "markdown",
   "id": "64fd786c",
   "metadata": {},
   "source": [
    "Sesudah install, kita import library yang dibutuhkan (untuk string udah otomatis terinstall)"
   ]
  },
  {
   "cell_type": "code",
   "execution_count": 55,
   "id": "50726a8e",
   "metadata": {},
   "outputs": [],
   "source": [
    "import pandas as pd\n",
    "from nltk.tokenize import word_tokenize\n",
    "from nltk.corpus import stopwords\n",
    "from sklearn.feature_extraction.text import TfidfVectorizer\n",
    "import string\n",
    "import re"
   ]
  },
  {
   "cell_type": "markdown",
   "id": "5fb6decc",
   "metadata": {},
   "source": [
    "## Melakukan Preproces"
   ]
  },
  {
   "cell_type": "markdown",
   "id": "e2b4ed0e",
   "metadata": {},
   "source": [
    "### 1. Stop Word"
   ]
  },
  {
   "cell_type": "markdown",
   "id": "0ca5b3b4",
   "metadata": {},
   "source": [
    "Stop Word adalah tahap untuk menghilangkan kata yang tidak memiliki arti, seperti preposisi, konjungsi, dan lain sebagainya. Contoh kata yang dihilangkan dari Stop Word adalah yang, di, ke, dan lainnya. Tanpa perlu berlama-lama mari langsung kepada tahap kodingnya, pertama tama kita load data yang sudah kita crawling tadi. Karena tadi hasil yang saya save dengan nama **crawlingpta.csv** maka pada saat load dengan pandas yang saya tuju adalah file **crawlingpta.csv**"
   ]
  },
  {
   "cell_type": "code",
   "execution_count": 56,
   "id": "952ad2f4",
   "metadata": {},
   "outputs": [],
   "source": [
    "jurnal = pd.read_csv('crawlUAS.csv')"
   ]
  },
  {
   "cell_type": "markdown",
   "id": "bb037090",
   "metadata": {},
   "source": [
    "Sesudah meload data selanjutnya memilih kolom yang ingin di proses, disini saya akan memproses kolom **abstraksi**, dan pada kolom itu juga saya akan menghilangkan angka yang akan mengganggu. Tahap ini juga termasuk dalam bagian Cleaning Data, tahap ini saya lakukan di awal karena kalau udah masuk ke stop word akan susah di proses. Untuk melakukannya saya buat function yang bernama **remove_number** dan di function ini akan mengembalikan nilai berupa text dimana jika ada angka akan dihapus, dan ketika memanggil kolom dikasih apply dan memanggil functionnya"
   ]
  },
  {
   "cell_type": "code",
   "execution_count": 57,
   "id": "78304335",
   "metadata": {},
   "outputs": [
    {
     "data": {
      "text/plain": [
       "0       Abstrak\\r\\nPenelitian ini menggunakan metode k...\n",
       "1       Aplikasi nyata pemanfaatan teknologi informasi...\n",
       "2       Tujuan penelitian ini adalah untuk mengidentif...\n",
       "3       PLN merupakan Badan Usaha Milik Negara yang be...\n",
       "4       \\r\\n\\r\\nPenelitian ini bertujuan untuk mengeta...\n",
       "                              ...                        \n",
       "1014    Umi Kholidah, Pengaruh Arus Kas Operasi, Arus ...\n",
       "1015    Abstrak\\nR.A Fajria Nurul Islami, . Pengaruh S...\n",
       "1016    \\nRiska Utami Ningsih, Pengaruh Kepemilikan in...\n",
       "1017    Berdasarkan hasil penelitian ini menunjukkan b...\n",
       "1018    \\nLaura Monica, Analisis Pengaruh Likuiditas, ...\n",
       "Name: Abstraksi, Length: 1019, dtype: object"
      ]
     },
     "execution_count": 57,
     "metadata": {},
     "output_type": "execute_result"
    }
   ],
   "source": [
    "def remove_number(text):\n",
    "    return  re.sub(r\"\\d+\", \"\", text)\n",
    "\n",
    "pre_abstrak = jurnal['Abstraksi'].apply(remove_number)\n",
    "pre_abstrak"
   ]
  },
  {
   "cell_type": "markdown",
   "id": "fe7a340a",
   "metadata": {},
   "source": [
    "Kemudian langkah sebelum memasuki stop word adalah harus tokenize kalimat dahulu, tokenize adalah proses untuk membagi kalimat ke dalam bagian bagian tertentu"
   ]
  },
  {
   "cell_type": "code",
   "execution_count": 58,
   "id": "5da2e50a",
   "metadata": {},
   "outputs": [
    {
     "data": {
      "text/plain": [
       "0       [Abstrak, Penelitian, ini, menggunakan, metode...\n",
       "1       [Aplikasi, nyata, pemanfaatan, teknologi, info...\n",
       "2       [Tujuan, penelitian, ini, adalah, untuk, mengi...\n",
       "3       [PLN, merupakan, Badan, Usaha, Milik, Negara, ...\n",
       "4       [Penelitian, ini, bertujuan, untuk, mengetahui...\n",
       "                              ...                        \n",
       "1014    [Umi, Kholidah, ,, Pengaruh, Arus, Kas, Operas...\n",
       "1015    [Abstrak, R.A, Fajria, Nurul, Islami, ,, ., Pe...\n",
       "1016    [Riska, Utami, Ningsih, ,, Pengaruh, Kepemilik...\n",
       "1017    [Berdasarkan, hasil, penelitian, ini, menunjuk...\n",
       "1018    [Laura, Monica, ,, Analisis, Pengaruh, Likuidi...\n",
       "Name: Abstraksi, Length: 1019, dtype: object"
      ]
     },
     "execution_count": 58,
     "metadata": {},
     "output_type": "execute_result"
    }
   ],
   "source": [
    "word_tokens = pre_abstrak.apply(word_tokenize)\n",
    "word_tokens"
   ]
  },
  {
   "cell_type": "markdown",
   "id": "e6e68c57",
   "metadata": {},
   "source": [
    "Langkah selanjutnya adalah Stop Word. Karena disini saya menggunakan nltk maka harus menentukan dahulu bahasa yang digunakan untuk menentukan bahasa menggunakan **stopwords.words('indonesian')**. Kemudian jika dirasa list stop word masih ada yang kurang maka kita bisa menambahkan sendiri dengan cara membuat list kata yang tidak ada di stop word kemudian kita extend dengan list yang kita buat sendiri **stop_words.extend(list)**"
   ]
  },
  {
   "cell_type": "code",
   "execution_count": 59,
   "id": "340db24f",
   "metadata": {},
   "outputs": [
    {
     "name": "stdout",
     "output_type": "stream",
     "text": [
      "['Aplikasi', 'nyata', 'pemanfaatan', 'teknologi', 'informasi', 'komunikasi', 'bidang', 'layanan', 'administrasi', 'akademik', 'perguruan', ',', 'salah', 'satunya', 'sistem', 'portal', 'akademik', 'Universitas', 'Trunojoyo', 'Madura', '.', 'Implementasi', 'proses', 'penyelenggaraannya', 'menemui', 'kendala', ',', 'teknis', 'non', 'teknis', '.', 'Penelitian', 'bertujuan', 'kepuasan', 'pelanggan', 'berdasarkan', 'analisis', 'indeks', 'kepuasan', 'pelanggan', 'ditinjau', 'Webqual', '.', 'fokus', 'perbaikan', 'mutu', 'pelayanan', 'website', 'portal', 'akademik', 'Universitas', 'Trunjoyo', 'Madura', 'berdasarkan', 'Importance', 'Performance', 'Analysis', 'ditinjau', 'Webqual', '..', 'Penelitian', 'penelitian', 'kuantitaif', 'deskriptif', ',', 'gambaran', ',', 'deskripsi', ',', 'lukisan', 'sistematis', ',', 'faktual', 'akurat', 'kualitas', 'pelayanan', 'jasa', 'online', 'mahasiswa.Sampelpenelitianiniadalahmahasiswaangkatan', '/', ',', 'teknik', 'sampel', 'teknik', 'Stratified', 'Random', 'Sampling', 'alat', 'analisis', 'Indeks', 'Kepuasan', 'Pelanggan', 'analisis', 'Tingkat', 'Kepentingan', '–', 'Kinerja', '.', 'Hasil', 'penelitian', 'skor', 'Indeks', 'Kepuasan', 'Pelanggan', '(', 'IKP', ')', '.', '%', 'masuk', 'kategori', '“', 'puas', '”', ',', 'Diagram', 'Kartesius', 'Importance', 'Performance', 'atribut', 'prioritas', 'utama', 'perbaikan', 'mutu', 'Situs', 'portal', 'akademik', 'Universitas', 'Trunojoyo', 'Madura', 'informasi', 'administrasi', 'akademik', 'mahasiswa', ',', 'detail', 'ter', 'update', '(', 'KI', ')', ',', 'Informasi', 'administrasi', 'akademik', 'disitus', 'portal', 'akademik', 'UTM', 'dipercaya', '(', 'KI', ')', ',', 'Melalui', 'portal', 'UTM', ',', 'pengguna', 'aman', 'data', 'akademik', 'mahasiswa', '(', 'KRS', ',', 'KHS', ',', 'Transkrip', ',', 'data', 'personal', ')', 'sesuai', '(', 'KIP', ')', '.', 'Kata', 'kunci', ':', 'website', ',', 'importance', 'performance', ',', 'webqual', ',', 'indeks', 'kepuasan', 'pelanggan', '.']\n",
      "['Tujuan', 'penelitian', 'mengidentifikasi', 'variabel-variabel', 'mempengaruhi', 'minat', 'ulang', 'nasabah', 'BRI', 'layanan', 'Internet', 'Banking', 'BRI', 'parsial', 'simultan', '.', 'Penelitian', 'metode', 'kuantitatif', 'dimana', 'populasi', 'penelitian', 'nasabah', 'BRI', 'kota', 'Bangkalan', 'layanan', 'Internet', 'Banking', 'BRI', 'diperoleh', 'sampel', 'responden', 'diambil', 'teknik', 'purposive', 'sampling', '.', 'Teknik', 'analisis', 'regresi', 'linier', 'berganda', '.', 'Hasil', 'penelitian', ',', '(', ')', 'simultan', 'pengaruh', 'signifikan', 'variabel', 'bebas', '(', 'persepsi', 'manfaat', ',', 'persepsi', 'kemudahan', ',', 'keamanan', ',', 'ketersediaan', 'fitur', ')', 'minat', 'ulang', 'internet', 'banking', ',', '(', ')', 'parsial', ',', 'variabel', 'bebas', 'berpengaruh', 'positif', 'signifikan', 'minat', 'ulang', 'layanan', 'internet', 'banking', ',', 'kecuali', 'variabel', 'persepsi', 'kemudahan', ',', 'kecuali', 'variabel', 'persepsi', 'kemudahan', '.', 'Kata', 'Kunci', ':', 'Persepsi', 'Manfaat', ',', 'Persepsi', 'Kemudahan', ',', 'Keamanan', ',', 'Ketersediaan', 'Fitur', ',', 'Minat', 'Ulang', 'Menggunakan', 'Internet', 'Banking', '.']\n",
      "['PLN', 'Badan', 'Usaha', 'Milik', 'Negara', 'bergerak', 'bidang', 'penyediaan', 'listrik', 'nasional', '.', 'PLN', 'mengelola', 'bisnisnya', 'praktek-paktek', 'terbaik', 'mengoptimalisasikan', 'sumbr', 'daya', 'manusia', 'dimiliki', '.', 'Salah', 'proses', 'pengembangan', 'karir', '.', 'Tujuan', 'penelitian', 'pengaruh', 'signifikan', 'pengembangan', 'karir', 'semangat', 'kerja', 'karyawan', 'PLN', 'Cabang', 'Bangkalan', 'parsial', 'simultan', '.Penelitian', 'bersifat', 'penelitian', 'populasi', '.', 'Besar', 'populasi', 'penelitian', 'responden.Uji', 'kuesioner', 'uji', 'validitas', 'uji', 'reliabilitas', '.', 'Teknik', 'analisis', 'data', 'analisis', 'regresi', 'linier', 'berganda', ',', 'uji', 't', ',', 'uji', 'F', 'koefisien', 'determinasi', '.', 'Hasil', 'penelitian', 'variabel', 'pengembangan', 'karir', 'prestasi', 'kerja', ',', 'pengenalan', ',', 'kesetiaan', 'orgnisasional', ',', 'mentor', 'sponsor', 'kesempatan', 'tumbuh', 'memiliki', 'pengaruh', 'positif', 'semangat', 'kerja', 'karyawan', '.', 'Dari', 'variabel', 'diatas', ',', 'prestasi', 'kerja', 'variabel', 'memiliki', 'pengaruh', 'kuat', 'semangat', 'kerja', 'karyawan', 'PLN', 'cabang', 'bangkalan', 'Kata', 'kunci', ':', 'Pengembangan', 'karir', ',', 'semangat', 'kerja', ',', 'Karyawan', 'PLN']\n"
     ]
    }
   ],
   "source": [
    "stop_words = stopwords.words('indonesian')\n",
    "list = ['a','aajaran','aanslag','aatau','ah','abstak','abstrack','abstract','abstrak','z']\n",
    "stop_words.extend(list)\n",
    "after = [[w for w in temp if w not in stop_words] for temp in word_tokens]\n",
    "for i in range(1,4):\n",
    "    print(after[i])"
   ]
  },
  {
   "cell_type": "markdown",
   "id": "23c451f3",
   "metadata": {},
   "source": [
    "Untuk logika pada saat stop word sendiri sebagai berikut. Pertama kita set bahasa stop words yang digunakan yaitu **indonesian**. Jika ada list stop words yang tidak ada pada stop words yang disediakan oleh nltk, kita bisa menambahkannya dengan cara membuat list kata yang mau dihilangkan kemudian pada stop wordsnya di extend dengan list yang menyimpan list kata yang ingin dihapus. Kemudian logika untuk perulangannya yaitu ini akan dilooping kata yang ada di dalam nested array, maka kita lakukan 2 kali perulangan. Pertama untuk melooping yg ada di dalam nestednya dengan dikasih logika percabangan jika katanya tidak ada pada list stop wordsnya maka akan masuk, dan yang kedua untuk menentukan list mana yang akan di looping."
   ]
  },
  {
   "cell_type": "markdown",
   "id": "87c51cb6",
   "metadata": {},
   "source": [
    "### 2. Cleaning Data"
   ]
  },
  {
   "cell_type": "markdown",
   "id": "d5060086",
   "metadata": {},
   "source": [
    "Cleaning Data adalah proses untuk membersihkan data yang ada menjadi data yang bisa diolah. Data yang dibersihkan seperti missing value atau data kosong, karakter asing, menghilangkan angka, dan lain sebaginaya. Untuk proses penghilangan angka sudah dilakukan ketika memilih tabel **abstraksi**, maka sekarang tinggal menghilangkan karakter asing dan sekawannya. Untuk melakukan itu kita bisa menggunakan library string.punctuation. Dimana ia akan menghilangkan karakter asing yang ada"
   ]
  },
  {
   "cell_type": "code",
   "execution_count": 60,
   "id": "f430bc0d",
   "metadata": {},
   "outputs": [
    {
     "name": "stdout",
     "output_type": "stream",
     "text": [
      "['Aplikasi', 'nyata', 'pemanfaatan', 'teknologi', 'informasi', 'komunikasi', 'bidang', 'layanan', 'administrasi', 'akademik', 'perguruan', 'salah', 'satunya', 'sistem', 'portal', 'akademik', 'Universitas', 'Trunojoyo', 'Madura', 'Implementasi', 'proses', 'penyelenggaraannya', 'menemui', 'kendala', 'teknis', 'non', 'teknis', 'Penelitian', 'bertujuan', 'kepuasan', 'pelanggan', 'berdasarkan', 'analisis', 'indeks', 'kepuasan', 'pelanggan', 'ditinjau', 'Webqual', 'fokus', 'perbaikan', 'mutu', 'pelayanan', 'website', 'portal', 'akademik', 'Universitas', 'Trunjoyo', 'Madura', 'berdasarkan', 'Importance', 'Performance', 'Analysis', 'ditinjau', 'Webqual', 'Penelitian', 'penelitian', 'kuantitaif', 'deskriptif', 'gambaran', 'deskripsi', 'lukisan', 'sistematis', 'faktual', 'akurat', 'kualitas', 'pelayanan', 'jasa', 'online', 'teknik', 'sampel', 'teknik', 'Stratified', 'Random', 'Sampling', 'alat', 'analisis', 'Indeks', 'Kepuasan', 'Pelanggan', 'analisis', 'Tingkat', 'Kepentingan', 'Kinerja', 'Hasil', 'penelitian', 'skor', 'Indeks', 'Kepuasan', 'Pelanggan', 'IKP', 'masuk', 'kategori', 'puas', 'Diagram', 'Kartesius', 'Importance', 'Performance', 'atribut', 'prioritas', 'utama', 'perbaikan', 'mutu', 'Situs', 'portal', 'akademik', 'Universitas', 'Trunojoyo', 'Madura', 'informasi', 'administrasi', 'akademik', 'mahasiswa', 'detail', 'ter', 'update', 'KI', 'Informasi', 'administrasi', 'akademik', 'disitus', 'portal', 'akademik', 'UTM', 'dipercaya', 'KI', 'Melalui', 'portal', 'UTM', 'pengguna', 'aman', 'data', 'akademik', 'mahasiswa', 'KRS', 'KHS', 'Transkrip', 'data', 'personal', 'sesuai', 'KIP', 'Kata', 'kunci', 'website', 'importance', 'performance', 'webqual', 'indeks', 'kepuasan', 'pelanggan']\n",
      "['Tujuan', 'penelitian', 'mengidentifikasi', 'mempengaruhi', 'minat', 'ulang', 'nasabah', 'BRI', 'layanan', 'Internet', 'Banking', 'BRI', 'parsial', 'simultan', 'Penelitian', 'metode', 'kuantitatif', 'dimana', 'populasi', 'penelitian', 'nasabah', 'BRI', 'kota', 'Bangkalan', 'layanan', 'Internet', 'Banking', 'BRI', 'diperoleh', 'sampel', 'responden', 'diambil', 'teknik', 'purposive', 'sampling', 'Teknik', 'analisis', 'regresi', 'linier', 'berganda', 'Hasil', 'penelitian', 'simultan', 'pengaruh', 'signifikan', 'variabel', 'bebas', 'persepsi', 'manfaat', 'persepsi', 'kemudahan', 'keamanan', 'ketersediaan', 'fitur', 'minat', 'ulang', 'internet', 'banking', 'parsial', 'variabel', 'bebas', 'berpengaruh', 'positif', 'signifikan', 'minat', 'ulang', 'layanan', 'internet', 'banking', 'kecuali', 'variabel', 'persepsi', 'kemudahan', 'kecuali', 'variabel', 'persepsi', 'kemudahan', 'Kata', 'Kunci', 'Persepsi', 'Manfaat', 'Persepsi', 'Kemudahan', 'Keamanan', 'Ketersediaan', 'Fitur', 'Minat', 'Ulang', 'Menggunakan', 'Internet', 'Banking']\n",
      "['PLN', 'Badan', 'Usaha', 'Milik', 'Negara', 'bergerak', 'bidang', 'penyediaan', 'listrik', 'nasional', 'PLN', 'mengelola', 'bisnisnya', 'terbaik', 'mengoptimalisasikan', 'sumbr', 'daya', 'manusia', 'dimiliki', 'Salah', 'proses', 'pengembangan', 'karir', 'Tujuan', 'penelitian', 'pengaruh', 'signifikan', 'pengembangan', 'karir', 'semangat', 'kerja', 'karyawan', 'PLN', 'Cabang', 'Bangkalan', 'parsial', 'simultan', 'bersifat', 'penelitian', 'populasi', 'Besar', 'populasi', 'penelitian', 'kuesioner', 'uji', 'validitas', 'uji', 'reliabilitas', 'Teknik', 'analisis', 'data', 'analisis', 'regresi', 'linier', 'berganda', 'uji', 't', 'uji', 'F', 'koefisien', 'determinasi', 'Hasil', 'penelitian', 'variabel', 'pengembangan', 'karir', 'prestasi', 'kerja', 'pengenalan', 'kesetiaan', 'orgnisasional', 'mentor', 'sponsor', 'kesempatan', 'tumbuh', 'memiliki', 'pengaruh', 'positif', 'semangat', 'kerja', 'karyawan', 'Dari', 'variabel', 'diatas', 'prestasi', 'kerja', 'variabel', 'memiliki', 'pengaruh', 'kuat', 'semangat', 'kerja', 'karyawan', 'PLN', 'cabang', 'bangkalan', 'Kata', 'kunci', 'Pengembangan', 'karir', 'semangat', 'kerja', 'Karyawan', 'PLN']\n"
     ]
    }
   ],
   "source": [
    "clearData = [[w for w in z if w not in string.punctuation and w.isalpha()] for z in after] \n",
    "for i in range(1,4):\n",
    "    print(clearData[i])"
   ]
  },
  {
   "cell_type": "markdown",
   "id": "5a77b2d1",
   "metadata": {},
   "source": [
    "Logika dari code diatas sama seperti proses stop words dimana dilakukan perulangan nested looping untuk mengecek katanya, jika terdeteksi kata itu ada pada **string.punctuation** maka tidak dimasukan"
   ]
  },
  {
   "cell_type": "markdown",
   "id": "8b93205e",
   "metadata": {},
   "source": [
    "## Tf-IDF"
   ]
  },
  {
   "cell_type": "markdown",
   "id": "4cf2a390",
   "metadata": {},
   "source": [
    "Term Frequency — Inverse Document Frequency atau TF — IDF adalah suatu metode algoritma yang berguna untuk menghitung bobot setiap kata yang umum digunakan. Metode ini juga terkenal efisien, mudah dan memiliki hasil yang akurat. Metode ini akan menghitung nilai Term Frequency (TF) dan Inverse Document Frequency (IDF) pada setiap token (kata) di setiap dokumen dalam korpus. Secara sederhana, metode TF-IDF digunakan untuk mengetahui berapa sering suatu kata muncul di dalam dokumen. Rumus dari Tf-IDF sebagai berikut : $W_{i, j}=t f i, j \\times \\log \\frac{N}{d_{f j}}$\n",
    "<ul>\n",
    "    <li>Wij = score TF-IDF</li>\n",
    "    <li>Tfi,j = term dari dokumen</li>\n",
    "    <li>N = Total Dokumen</li>\n",
    "    <li>Dfj = dokumen</li>\n",
    "</ul>\n",
    "Untuk menggunakan Tf-IDF pada python kita bisa menggunakan TfidfVectorizer dari sklearn"
   ]
  },
  {
   "cell_type": "code",
   "execution_count": 61,
   "id": "a78faf72",
   "metadata": {},
   "outputs": [],
   "source": [
    "vectorizer = TfidfVectorizer(stop_words='english')\n",
    "berita = []\n",
    "for data in clearData:\n",
    "    isi = ''\n",
    "    for term in data:\n",
    "        isi += term + ' '\n",
    "    berita.append(isi)\n",
    "vectorizer.fit(berita)\n",
    "vector = vectorizer.transform(berita)\n",
    "a= vectorizer.get_feature_names_out()\n",
    "count = vector.toarray()\n",
    "df = pd.DataFrame(data=count,columns = [a])\n",
    "\n",
    "from sklearn.feature_extraction.text import TfidfTransformer\n",
    "tfidf=TfidfTransformer(use_idf=True, norm='l2', smooth_idf=True)\n",
    "tf = tfidf.fit_transform(vectorizer.fit_transform(berita)).toarray()\n",
    "\n",
    "dfp =pd.DataFrame(data=tf, index=range(1,len(tf[:,1])+1, ),columns=[a])"
   ]
  },
  {
   "cell_type": "markdown",
   "id": "cfc439c8",
   "metadata": {},
   "source": [
    "# K-Means Clustering"
   ]
  },
  {
   "cell_type": "markdown",
   "id": "e46a11d0",
   "metadata": {},
   "source": [
    "K-Means Clustering adalah suatu metode penganalisaan data atau metode Data Mining yang melakukan proses pemodelan unssupervised learning dan menggunakan metode yang mengelompokan data berbagai partisi. Algoritma untuk melakukan K-Means clustering adalah sebagai berikut:\n",
    "<ol>\n",
    "    <li>Pilih K buah titik centroid secara acak</li>\n",
    "    <li>Kelompokkan data sehingga terbentuk K buah cluster dengan titik centroid dari setiap cluster merupakan titik centroid yang telah dipilih sebelumnya</li>\n",
    "    <li>Perbaharui nilai titik centroid</li>\n",
    "    <li>Ulangi langkah 2 dan 3 sampai nilai dari titik centroid tidak lagi berubah</li>\n",
    "</ol>"
   ]
  },
  {
   "cell_type": "markdown",
   "id": "b334afd7",
   "metadata": {},
   "source": [
    "## Instal Library"
   ]
  },
  {
   "cell_type": "markdown",
   "id": "3b8777b0",
   "metadata": {},
   "source": [
    "Sebelum memasuki koding kita perlu menginstall beberapa library seperti : scikit-learn, numpy, seaborn, matplotlib"
   ]
  },
  {
   "cell_type": "code",
   "execution_count": 62,
   "id": "a989e782",
   "metadata": {},
   "outputs": [
    {
     "name": "stdout",
     "output_type": "stream",
     "text": [
      "Requirement already satisfied: scikit-learn in c:\\users\\asus a456ur\\appdata\\local\\programs\\python\\python310\\lib\\site-packages (1.1.1)\n",
      "Requirement already satisfied: scipy>=1.3.2 in c:\\users\\asus a456ur\\appdata\\local\\programs\\python\\python310\\lib\\site-packages (from scikit-learn) (1.8.0)\n",
      "Requirement already satisfied: threadpoolctl>=2.0.0 in c:\\users\\asus a456ur\\appdata\\local\\programs\\python\\python310\\lib\\site-packages (from scikit-learn) (3.1.0)\n",
      "Requirement already satisfied: numpy>=1.17.3 in c:\\users\\asus a456ur\\appdata\\local\\programs\\python\\python310\\lib\\site-packages (from scikit-learn) (1.22.3)\n",
      "Requirement already satisfied: joblib>=1.0.0 in c:\\users\\asus a456ur\\appdata\\local\\programs\\python\\python310\\lib\\site-packages (from scikit-learn) (1.1.0)\n",
      "Note: you may need to restart the kernel to use updated packages.\n"
     ]
    },
    {
     "name": "stderr",
     "output_type": "stream",
     "text": [
      "WARNING: You are using pip version 22.0.4; however, version 22.1.2 is available.\n",
      "You should consider upgrading via the 'C:\\Users\\ASUS A456UR\\AppData\\Local\\Programs\\Python\\Python310\\python.exe -m pip install --upgrade pip' command.\n"
     ]
    }
   ],
   "source": [
    "pip install -U scikit-learn"
   ]
  },
  {
   "cell_type": "code",
   "execution_count": 63,
   "id": "225c8c86",
   "metadata": {},
   "outputs": [
    {
     "name": "stdout",
     "output_type": "stream",
     "text": [
      "Requirement already satisfied: numpy in c:\\users\\asus a456ur\\appdata\\local\\programs\\python\\python310\\lib\\site-packages (1.22.3)\n",
      "Note: you may need to restart the kernel to use updated packages.\n"
     ]
    },
    {
     "name": "stderr",
     "output_type": "stream",
     "text": [
      "WARNING: You are using pip version 22.0.4; however, version 22.1.2 is available.\n",
      "You should consider upgrading via the 'C:\\Users\\ASUS A456UR\\AppData\\Local\\Programs\\Python\\Python310\\python.exe -m pip install --upgrade pip' command.\n"
     ]
    }
   ],
   "source": [
    "pip install numpy"
   ]
  },
  {
   "cell_type": "code",
   "execution_count": 64,
   "id": "1ffcc5f3",
   "metadata": {},
   "outputs": [
    {
     "name": "stdout",
     "output_type": "stream",
     "text": [
      "Requirement already satisfied: seaborn in c:\\users\\asus a456ur\\appdata\\local\\programs\\python\\python310\\lib\\site-packages (0.11.2)\n",
      "Requirement already satisfied: numpy>=1.15 in c:\\users\\asus a456ur\\appdata\\local\\programs\\python\\python310\\lib\\site-packages (from seaborn) (1.22.3)\n",
      "Requirement already satisfied: pandas>=0.23 in c:\\users\\asus a456ur\\appdata\\local\\programs\\python\\python310\\lib\\site-packages (from seaborn) (1.4.1)\n",
      "Requirement already satisfied: matplotlib>=2.2 in c:\\users\\asus a456ur\\appdata\\local\\programs\\python\\python310\\lib\\site-packages (from seaborn) (3.5.2)\n",
      "Requirement already satisfied: scipy>=1.0 in c:\\users\\asus a456ur\\appdata\\local\\programs\\python\\python310\\lib\\site-packages (from seaborn) (1.8.0)\n",
      "Requirement already satisfied: pyparsing>=2.2.1 in c:\\users\\asus a456ur\\appdata\\local\\programs\\python\\python310\\lib\\site-packages (from matplotlib>=2.2->seaborn) (3.0.7)\n",
      "Requirement already satisfied: python-dateutil>=2.7 in c:\\users\\asus a456ur\\appdata\\local\\programs\\python\\python310\\lib\\site-packages (from matplotlib>=2.2->seaborn) (2.8.2)\n",
      "Requirement already satisfied: cycler>=0.10 in c:\\users\\asus a456ur\\appdata\\local\\programs\\python\\python310\\lib\\site-packages (from matplotlib>=2.2->seaborn) (0.11.0)\n",
      "Requirement already satisfied: packaging>=20.0 in c:\\users\\asus a456ur\\appdata\\local\\programs\\python\\python310\\lib\\site-packages (from matplotlib>=2.2->seaborn) (21.3)\n",
      "Requirement already satisfied: pillow>=6.2.0 in c:\\users\\asus a456ur\\appdata\\local\\programs\\python\\python310\\lib\\site-packages (from matplotlib>=2.2->seaborn) (9.0.1)\n",
      "Requirement already satisfied: kiwisolver>=1.0.1 in c:\\users\\asus a456ur\\appdata\\local\\programs\\python\\python310\\lib\\site-packages (from matplotlib>=2.2->seaborn) (1.4.2)\n",
      "Requirement already satisfied: fonttools>=4.22.0 in c:\\users\\asus a456ur\\appdata\\local\\programs\\python\\python310\\lib\\site-packages (from matplotlib>=2.2->seaborn) (4.31.2)\n",
      "Requirement already satisfied: pytz>=2020.1 in c:\\users\\asus a456ur\\appdata\\local\\programs\\python\\python310\\lib\\site-packages (from pandas>=0.23->seaborn) (2021.3)\n",
      "Requirement already satisfied: six>=1.5 in c:\\users\\asus a456ur\\appdata\\local\\programs\\python\\python310\\lib\\site-packages (from python-dateutil>=2.7->matplotlib>=2.2->seaborn) (1.16.0)\n",
      "Note: you may need to restart the kernel to use updated packages.\n"
     ]
    },
    {
     "name": "stderr",
     "output_type": "stream",
     "text": [
      "WARNING: You are using pip version 22.0.4; however, version 22.1.2 is available.\n",
      "You should consider upgrading via the 'C:\\Users\\ASUS A456UR\\AppData\\Local\\Programs\\Python\\Python310\\python.exe -m pip install --upgrade pip' command.\n"
     ]
    }
   ],
   "source": [
    "pip install seaborn"
   ]
  },
  {
   "cell_type": "code",
   "execution_count": 65,
   "id": "76c76b82",
   "metadata": {},
   "outputs": [
    {
     "name": "stdout",
     "output_type": "stream",
     "text": [
      "Requirement already satisfied: matplotlib in c:\\users\\asus a456ur\\appdata\\local\\programs\\python\\python310\\lib\\site-packages (3.5.2)\n",
      "Requirement already satisfied: python-dateutil>=2.7 in c:\\users\\asus a456ur\\appdata\\local\\programs\\python\\python310\\lib\\site-packages (from matplotlib) (2.8.2)\n",
      "Requirement already satisfied: packaging>=20.0 in c:\\users\\asus a456ur\\appdata\\local\\programs\\python\\python310\\lib\\site-packages (from matplotlib) (21.3)\n",
      "Requirement already satisfied: numpy>=1.17 in c:\\users\\asus a456ur\\appdata\\local\\programs\\python\\python310\\lib\\site-packages (from matplotlib) (1.22.3)\n",
      "Requirement already satisfied: cycler>=0.10 in c:\\users\\asus a456ur\\appdata\\local\\programs\\python\\python310\\lib\\site-packages (from matplotlib) (0.11.0)\n",
      "Requirement already satisfied: kiwisolver>=1.0.1 in c:\\users\\asus a456ur\\appdata\\local\\programs\\python\\python310\\lib\\site-packages (from matplotlib) (1.4.2)\n",
      "Requirement already satisfied: fonttools>=4.22.0 in c:\\users\\asus a456ur\\appdata\\local\\programs\\python\\python310\\lib\\site-packages (from matplotlib) (4.31.2)\n",
      "Requirement already satisfied: pillow>=6.2.0 in c:\\users\\asus a456ur\\appdata\\local\\programs\\python\\python310\\lib\\site-packages (from matplotlib) (9.0.1)\n",
      "Requirement already satisfied: pyparsing>=2.2.1 in c:\\users\\asus a456ur\\appdata\\local\\programs\\python\\python310\\lib\\site-packages (from matplotlib) (3.0.7)\n",
      "Requirement already satisfied: six>=1.5 in c:\\users\\asus a456ur\\appdata\\local\\programs\\python\\python310\\lib\\site-packages (from python-dateutil>=2.7->matplotlib) (1.16.0)\n",
      "Note: you may need to restart the kernel to use updated packages.\n"
     ]
    },
    {
     "name": "stderr",
     "output_type": "stream",
     "text": [
      "WARNING: You are using pip version 22.0.4; however, version 22.1.2 is available.\n",
      "You should consider upgrading via the 'C:\\Users\\ASUS A456UR\\AppData\\Local\\Programs\\Python\\Python310\\python.exe -m pip install --upgrade pip' command.\n"
     ]
    }
   ],
   "source": [
    "pip install matplotlib"
   ]
  },
  {
   "cell_type": "markdown",
   "id": "58389f9f",
   "metadata": {},
   "source": [
    "## Import Library"
   ]
  },
  {
   "cell_type": "markdown",
   "id": "fed8f94c",
   "metadata": {},
   "source": [
    "Import library yang dibutuhkan seperti, KMean dari sklearn.cluster, PCA dari sklearn.decomposition, numpy, seaborn"
   ]
  },
  {
   "cell_type": "code",
   "execution_count": 66,
   "id": "222a2caf",
   "metadata": {},
   "outputs": [],
   "source": [
    "from sklearn.cluster import KMeans\n",
    "from sklearn.decomposition import PCA\n",
    "import numpy as np\n",
    "import seaborn as sns\n",
    "import matplotlib.pyplot as plt"
   ]
  },
  {
   "cell_type": "markdown",
   "id": "9ab8cc64",
   "metadata": {},
   "source": [
    "## Reduksi Dimensi"
   ]
  },
  {
   "cell_type": "markdown",
   "id": "cbf52161",
   "metadata": {},
   "source": [
    "Sebelum masuk ke metode KMeans kita perlu mereduksi dimensi dahulu, untuk melakukan reduksi dimensi kita bisa menggunakan teknik Principal Component Analysis (PCA), dimana PCA akan mengurangi dimensi kumpulan data menjadi angka arbitrary sambil mempertahankan informasi yang ada pada data. Sederhananya PCA akan cenderung mempertahankan dimensi yang paling baik, dengan menghapus dimensi yang kontribusinya sedikit pada dimensi terakhir"
   ]
  },
  {
   "cell_type": "code",
   "execution_count": 67,
   "id": "7c666d09",
   "metadata": {},
   "outputs": [
    {
     "name": "stdout",
     "output_type": "stream",
     "text": [
      "[-0.13803762 -0.04017673 -0.02717337 ...  0.07948205  0.17976846\n",
      "  0.1038171 ]\n",
      "[ 0.11984344 -0.0727122  -0.0881781  ... -0.07632471 -0.05851265\n",
      " -0.00273118]\n"
     ]
    }
   ],
   "source": [
    "pca = PCA(n_components=2, random_state=42)\n",
    "pca_vecs = pca.fit_transform(dfp)\n",
    "x0 = pca_vecs[:, 0]\n",
    "x1 = pca_vecs[:, 1]\n",
    "print(x0)\n",
    "print(x1)"
   ]
  },
  {
   "cell_type": "markdown",
   "id": "694a2ec2",
   "metadata": {},
   "source": [
    "Pada code di atas pertama kita inisalisasi PCA dahulu dengan 2 komponen, kemudian set PCA dengan vector dari tfidf dan disimpan vector yang direduksi pada variabel pca_vecs. Kemudian simpan 2 dimensi tadi kepada variabel x0 dan x1. elanjutnya kita tambahkan kolom cluster, x0, dan x1 pada dataframe jurnal kita "
   ]
  },
  {
   "cell_type": "markdown",
   "id": "d8a616f9",
   "metadata": {},
   "source": [
    "## Menentukan Nilai K Terbaik Dengan Metode Elbow"
   ]
  },
  {
   "cell_type": "markdown",
   "id": "32b623da",
   "metadata": {},
   "source": [
    "Langkah awal untuk memulai KMeans adalah dengan menentukan berapa banyak cluster yang mau ditentukan, untuk mencari cluster berapa banyak cluster yang tepat bisa menggunakan metode elbow. Metode Elbow sendiri merupakan salah satu metode untuk menentukan jumlah cluster yang tepat pada K-Means melalui persentase hasil perbandingan antara jumlah cluster yang akan membentuk siku siku pada suatu titik cluster yang tepat. Untuk mencari Elbow bisa menggunakan looping dengan ketentuan cluster pada insialisasi KMeans bernilai iterasi loopingnya, berikut adalah code dan visualisasi elbownya"
   ]
  },
  {
   "cell_type": "code",
   "execution_count": 68,
   "id": "5e8ec0f4",
   "metadata": {},
   "outputs": [],
   "source": [
    "distortions = []\n",
    "K = range(1,10)\n",
    "for k in K:\n",
    "    kmeanModel = KMeans(n_clusters=k)\n",
    "    kmeanModel.fit(pca_vecs)\n",
    "    distortions.append(kmeanModel.inertia_)"
   ]
  },
  {
   "cell_type": "code",
   "execution_count": 69,
   "id": "a35db0b7",
   "metadata": {},
   "outputs": [
    {
     "data": {
      "image/png": "[encoded data removed]",
      "text/plain": [
       "<Figure size 720x576 with 1 Axes>"
      ]
     },
     "metadata": {
      "needs_background": "light"
     },
     "output_type": "display_data"
    }
   ],
   "source": [
    "plt.figure(figsize=(10,8))\n",
    "plt.plot(K, distortions, 'bx-')\n",
    "plt.xlabel('k')\n",
    "plt.ylabel('Distortion')\n",
    "plt.title('Nilai k yang paling optimal adalah')\n",
    "plt.show()"
   ]
  },
  {
   "cell_type": "markdown",
   "id": "09b0ef7a",
   "metadata": {},
   "source": [
    "Dapat dilihat bahwa K yang membentuk siku adalah K yang kelima maka nanti pada implementasi K-Means akan menggunakan 5 cluster"
   ]
  },
  {
   "cell_type": "markdown",
   "id": "da8da44b",
   "metadata": {},
   "source": [
    "## Inisialisasi K-Means"
   ]
  },
  {
   "cell_type": "markdown",
   "id": "77f9720a",
   "metadata": {},
   "source": [
    "Sesudah import library, selanjutnya inisasi KMean dengan 3 centroid atau cluster sesuai dengan hasil metode elbow. Kemudian fit dengan vector dari tfidf"
   ]
  },
  {
   "cell_type": "code",
   "execution_count": 70,
   "id": "5bed9dc4",
   "metadata": {},
   "outputs": [],
   "source": [
    "kmeans = KMeans(n_clusters=5, random_state=42)\n",
    "# fit the model\n",
    "kmeans.fit(dfp)\n",
    "clusters = kmeans.labels_"
   ]
  },
  {
   "cell_type": "markdown",
   "id": "cd6a45b6",
   "metadata": {},
   "source": [
    "## Labeling Cluster"
   ]
  },
  {
   "cell_type": "markdown",
   "id": "9f6b900c",
   "metadata": {},
   "source": [
    "Sebelum melakukan labeling, pertama kita tambahkan dahulu kolom cluster dan hasil reduksi dimensi yang telah dilakukan"
   ]
  },
  {
   "cell_type": "code",
   "execution_count": 71,
   "id": "9e8e5c98",
   "metadata": {},
   "outputs": [
    {
     "data": {
      "text/html": [
       "<div>\n",
       "<style scoped>\n",
       "    .dataframe tbody tr th:only-of-type {\n",
       "        vertical-align: middle;\n",
       "    }\n",
       "\n",
       "    .dataframe tbody tr th {\n",
       "        vertical-align: top;\n",
       "    }\n",
       "\n",
       "    .dataframe thead th {\n",
       "        text-align: right;\n",
       "    }\n",
       "</style>\n",
       "<table border=\"1\" class=\"dataframe\">\n",
       "  <thead>\n",
       "    <tr style=\"text-align: right;\">\n",
       "      <th></th>\n",
       "      <th>Abstraksi</th>\n",
       "      <th>cluster</th>\n",
       "      <th>x0</th>\n",
       "      <th>x1</th>\n",
       "    </tr>\n",
       "  </thead>\n",
       "  <tbody>\n",
       "    <tr>\n",
       "      <th>0</th>\n",
       "      <td>Abstrak\\r\\nPenelitian ini menggunakan metode k...</td>\n",
       "      <td>4</td>\n",
       "      <td>-0.138038</td>\n",
       "      <td>0.119843</td>\n",
       "    </tr>\n",
       "    <tr>\n",
       "      <th>1</th>\n",
       "      <td>Aplikasi nyata pemanfaatan teknologi informasi...</td>\n",
       "      <td>3</td>\n",
       "      <td>-0.040177</td>\n",
       "      <td>-0.072712</td>\n",
       "    </tr>\n",
       "    <tr>\n",
       "      <th>2</th>\n",
       "      <td>Tujuan penelitian ini adalah untuk mengidentif...</td>\n",
       "      <td>3</td>\n",
       "      <td>-0.027173</td>\n",
       "      <td>-0.088178</td>\n",
       "    </tr>\n",
       "    <tr>\n",
       "      <th>3</th>\n",
       "      <td>PLN merupakan Badan Usaha Milik Negara yang be...</td>\n",
       "      <td>4</td>\n",
       "      <td>-0.107665</td>\n",
       "      <td>0.057330</td>\n",
       "    </tr>\n",
       "    <tr>\n",
       "      <th>4</th>\n",
       "      <td>\\r\\n\\r\\nPenelitian ini bertujuan untuk mengeta...</td>\n",
       "      <td>4</td>\n",
       "      <td>-0.077588</td>\n",
       "      <td>0.030956</td>\n",
       "    </tr>\n",
       "  </tbody>\n",
       "</table>\n",
       "</div>"
      ],
      "text/plain": [
       "                                           Abstraksi  cluster        x0  \\\n",
       "0  Abstrak\\r\\nPenelitian ini menggunakan metode k...        4 -0.138038   \n",
       "1  Aplikasi nyata pemanfaatan teknologi informasi...        3 -0.040177   \n",
       "2  Tujuan penelitian ini adalah untuk mengidentif...        3 -0.027173   \n",
       "3  PLN merupakan Badan Usaha Milik Negara yang be...        4 -0.107665   \n",
       "4  \\r\\n\\r\\nPenelitian ini bertujuan untuk mengeta...        4 -0.077588   \n",
       "\n",
       "         x1  \n",
       "0  0.119843  \n",
       "1 -0.072712  \n",
       "2 -0.088178  \n",
       "3  0.057330  \n",
       "4  0.030956  "
      ]
     },
     "execution_count": 71,
     "metadata": {},
     "output_type": "execute_result"
    }
   ],
   "source": [
    "jurnal['cluster'] = clusters\n",
    "jurnal['x0'] = x0\n",
    "jurnal['x1'] = x1\n",
    "jurnal[['Abstraksi','cluster','x0','x1']].head(5)"
   ]
  },
  {
   "cell_type": "markdown",
   "id": "5c660e27",
   "metadata": {},
   "source": [
    "Kemudian kita bisa melabeling dengan menggunakan logika mapping dan nilai value disini kita cocokan saja dengan nilai keynya"
   ]
  },
  {
   "cell_type": "code",
   "execution_count": 72,
   "id": "d2782c2d",
   "metadata": {},
   "outputs": [
    {
     "data": {
      "text/html": [
       "<div>\n",
       "<style scoped>\n",
       "    .dataframe tbody tr th:only-of-type {\n",
       "        vertical-align: middle;\n",
       "    }\n",
       "\n",
       "    .dataframe tbody tr th {\n",
       "        vertical-align: top;\n",
       "    }\n",
       "\n",
       "    .dataframe thead th {\n",
       "        text-align: right;\n",
       "    }\n",
       "</style>\n",
       "<table border=\"1\" class=\"dataframe\">\n",
       "  <thead>\n",
       "    <tr style=\"text-align: right;\">\n",
       "      <th></th>\n",
       "      <th>Abstraksi</th>\n",
       "      <th>cluster</th>\n",
       "      <th>x0</th>\n",
       "      <th>x1</th>\n",
       "    </tr>\n",
       "  </thead>\n",
       "  <tbody>\n",
       "    <tr>\n",
       "      <th>0</th>\n",
       "      <td>Abstrak\\r\\nPenelitian ini menggunakan metode k...</td>\n",
       "      <td>4</td>\n",
       "      <td>-0.138038</td>\n",
       "      <td>0.119843</td>\n",
       "    </tr>\n",
       "    <tr>\n",
       "      <th>1</th>\n",
       "      <td>Aplikasi nyata pemanfaatan teknologi informasi...</td>\n",
       "      <td>3</td>\n",
       "      <td>-0.040177</td>\n",
       "      <td>-0.072712</td>\n",
       "    </tr>\n",
       "    <tr>\n",
       "      <th>2</th>\n",
       "      <td>Tujuan penelitian ini adalah untuk mengidentif...</td>\n",
       "      <td>3</td>\n",
       "      <td>-0.027173</td>\n",
       "      <td>-0.088178</td>\n",
       "    </tr>\n",
       "    <tr>\n",
       "      <th>3</th>\n",
       "      <td>PLN merupakan Badan Usaha Milik Negara yang be...</td>\n",
       "      <td>4</td>\n",
       "      <td>-0.107665</td>\n",
       "      <td>0.057330</td>\n",
       "    </tr>\n",
       "    <tr>\n",
       "      <th>4</th>\n",
       "      <td>\\r\\n\\r\\nPenelitian ini bertujuan untuk mengeta...</td>\n",
       "      <td>4</td>\n",
       "      <td>-0.077588</td>\n",
       "      <td>0.030956</td>\n",
       "    </tr>\n",
       "  </tbody>\n",
       "</table>\n",
       "</div>"
      ],
      "text/plain": [
       "                                           Abstraksi  cluster        x0  \\\n",
       "0  Abstrak\\r\\nPenelitian ini menggunakan metode k...        4 -0.138038   \n",
       "1  Aplikasi nyata pemanfaatan teknologi informasi...        3 -0.040177   \n",
       "2  Tujuan penelitian ini adalah untuk mengidentif...        3 -0.027173   \n",
       "3  PLN merupakan Badan Usaha Milik Negara yang be...        4 -0.107665   \n",
       "4  \\r\\n\\r\\nPenelitian ini bertujuan untuk mengeta...        4 -0.077588   \n",
       "\n",
       "         x1  \n",
       "0  0.119843  \n",
       "1 -0.072712  \n",
       "2 -0.088178  \n",
       "3  0.057330  \n",
       "4  0.030956  "
      ]
     },
     "execution_count": 72,
     "metadata": {},
     "output_type": "execute_result"
    }
   ],
   "source": [
    "cluster_map = {0: 0, 1: 1, 2: 2, 3: 3, 4: 4, 5:5}\n",
    "jurnal['cluster'] = jurnal['cluster'].map(cluster_map)\n",
    "jurnal[['Abstraksi','cluster','x0','x1']].head(5)"
   ]
  },
  {
   "cell_type": "markdown",
   "id": "19c8524e",
   "metadata": {},
   "source": [
    "## Visualisasi"
   ]
  },
  {
   "cell_type": "markdown",
   "id": "f7893cf6",
   "metadata": {},
   "source": [
    "Untuk memvisualisasikan kita menggunakan library seaborn karena caranya cukuplah mudah, berikut adalah cara menggunakan seaborn yang disimpan kedalam kata sns"
   ]
  },
  {
   "cell_type": "code",
   "execution_count": 73,
   "id": "122c100c",
   "metadata": {
    "scrolled": true
   },
   "outputs": [
    {
     "data": {
      "image/png": "[encoded data removed]",
      "text/plain": [
       "<Figure size 720x360 with 1 Axes>"
      ]
     },
     "metadata": {
      "needs_background": "light"
     },
     "output_type": "display_data"
    }
   ],
   "source": [
    "plt.figure(figsize=(10, 5))\n",
    "plt.title(\"TF-IDF + KMeans 20newsgroup clustering\", fontdict={\"fontsize\": 18})\n",
    "plt.xlabel(\"X0\", fontdict={\"fontsize\": 10})\n",
    "plt.ylabel(\"X1\", fontdict={\"fontsize\": 10})\n",
    "sns.scatterplot(data=jurnal, x='x0', y='x1', hue='cluster', palette=\"viridis\")\n",
    "plt.show()"
   ]
  },
  {
   "cell_type": "markdown",
   "id": "6c5de3e0",
   "metadata": {},
   "source": [
    "Dapat dilihat bahwa sistem mendeteksi 5 kelompok yang berbeda yang didapatkan dari kolom cluster pada data"
   ]
  },
  {
   "cell_type": "markdown",
   "id": "8ee72c84",
   "metadata": {},
   "source": [
    "# Topik Modeling LSA"
   ]
  },
  {
   "cell_type": "markdown",
   "id": "670603dc",
   "metadata": {},
   "source": [
    "LSA merupakan metode yang memanfaatkan model statistik matematis untuk menganalisa struktur semantik suatu teks. LSA bisa digunakan untuk menilai esai dengan mengkonversikan esai menjadi matriks-matriks yang diberi nilai pada masing-masing term untuk dicari kesamaan dengan term referensi."
   ]
  },
  {
   "cell_type": "markdown",
   "id": "e88b536e",
   "metadata": {},
   "source": [
    "## Install Library"
   ]
  },
  {
   "cell_type": "code",
   "execution_count": 74,
   "id": "18a9568c",
   "metadata": {},
   "outputs": [
    {
     "name": "stdout",
     "output_type": "stream",
     "text": [
      "Requirement already satisfied: scikit-learn in c:\\users\\asus a456ur\\appdata\\local\\programs\\python\\python310\\lib\\site-packages (1.1.1)\n",
      "Requirement already satisfied: joblib>=1.0.0 in c:\\users\\asus a456ur\\appdata\\local\\programs\\python\\python310\\lib\\site-packages (from scikit-learn) (1.1.0)\n",
      "Requirement already satisfied: numpy>=1.17.3 in c:\\users\\asus a456ur\\appdata\\local\\programs\\python\\python310\\lib\\site-packages (from scikit-learn) (1.22.3)\n",
      "Requirement already satisfied: threadpoolctl>=2.0.0 in c:\\users\\asus a456ur\\appdata\\local\\programs\\python\\python310\\lib\\site-packages (from scikit-learn) (3.1.0)\n",
      "Requirement already satisfied: scipy>=1.3.2 in c:\\users\\asus a456ur\\appdata\\local\\programs\\python\\python310\\lib\\site-packages (from scikit-learn) (1.8.0)\n",
      "Note: you may need to restart the kernel to use updated packages.\n"
     ]
    },
    {
     "name": "stderr",
     "output_type": "stream",
     "text": [
      "WARNING: You are using pip version 22.0.4; however, version 22.1.2 is available.\n",
      "You should consider upgrading via the 'C:\\Users\\ASUS A456UR\\AppData\\Local\\Programs\\Python\\Python310\\python.exe -m pip install --upgrade pip' command.\n"
     ]
    }
   ],
   "source": [
    "pip install -U scikit-learn"
   ]
  },
  {
   "cell_type": "markdown",
   "id": "8c03c4db",
   "metadata": {},
   "source": [
    "## Import Library"
   ]
  },
  {
   "cell_type": "code",
   "execution_count": 75,
   "id": "beb9d726",
   "metadata": {},
   "outputs": [],
   "source": [
    "from sklearn.decomposition import TruncatedSVD"
   ]
  },
  {
   "cell_type": "markdown",
   "id": "230de99e",
   "metadata": {},
   "source": [
    "Setelah mengimport library yang dibutuhkan sekarang kita bisa melakukan LSA, namun sebelum melakukan LSA ada tahap untuk pengurungan dimensi agar bisa menemukan topik laten yang menangkap hubungan antara kata dan dokumen, pengurangan dimensi ini bisa dilakukan dengan cara Singular Value Decomposition (SVD) seperti dibawah ini"
   ]
  },
  {
   "cell_type": "markdown",
   "id": "6700d853",
   "metadata": {},
   "source": [
    "## Membuat Document Term Matrix (DTM)"
   ]
  },
  {
   "cell_type": "markdown",
   "id": "861144b3",
   "metadata": {},
   "source": [
    "Document Term Matrix adalah matriks matematis yang menggambarkan frekuensi istilah yang muncul dalam kumpulan dokumen, dengan DTM kita bisa dengan mudah untuk menentukan jumlah kata individual untuk setiap dokumen atau untuk semua dokumen. Misalkan untuk mengetahui kata mana yang lebih sering muncul dalam kumpulan dokumen dan menggunakan informasi tersebut untuk menentukan kata mana yang lebih mungkin “mewakili” dokumen tersebut. Nilai dari DTM sendiri menggunakan nilai dari TF-Idf. Beberapa poin penting yang perlu diperhatikan:\n",
    "<ol>\n",
    "    <li>LSA pada umumnya diimplementasikan dengan menggunakan nilai TF-Idf dan tidak dengan Count Vectorizer</li>\n",
    "    <li>Nilai parameter max_feature bergantung pada daya komputasi</li>\n",
    "    <li>Nilai default untuk min_df dan max_df agar program dapat bekerja dengan baik</li>\n",
    "    <li>Bisa menggunakan nilai ngram_range yang berbeda</li>\n",
    "</ol>\n",
    "Setelah mengetahui poin penting, berikut code untuk cari Tf-IDF"
   ]
  },
  {
   "cell_type": "code",
   "execution_count": 76,
   "id": "b46cbea9",
   "metadata": {},
   "outputs": [],
   "source": [
    "def dummy(doc):\n",
    "    return doc\n",
    "vect = TfidfVectorizer(tokenizer=dummy, lowercase=False)\n",
    "vect_text = vect.fit_transform(clearData)\n",
    "vect_text_tranpose = vect_text.transpose()\n",
    "df = pd.DataFrame(vect_text_tranpose.toarray())"
   ]
  },
  {
   "cell_type": "markdown",
   "id": "aba00a57",
   "metadata": {},
   "source": [
    "Setelah kita set Tf-idf dari data, kita cek dahulu apakah baris dan kolom sesuai dengan kata dan dokumennya menggunakan fungsi **shape** dan kita coba print 5 nilai"
   ]
  },
  {
   "cell_type": "code",
   "execution_count": 77,
   "id": "072f4d20",
   "metadata": {},
   "outputs": [
    {
     "name": "stdout",
     "output_type": "stream",
     "text": [
      "(1019, 8904)\n",
      "   0     1     2     3     4     5     6     7     8     9     ...  1009  \\\n",
      "0   0.0   0.0   0.0   0.0   0.0   0.0   0.0   0.0   0.0   0.0  ...   0.0   \n",
      "1   0.0   0.0   0.0   0.0   0.0   0.0   0.0   0.0   0.0   0.0  ...   0.0   \n",
      "2   0.0   0.0   0.0   0.0   0.0   0.0   0.0   0.0   0.0   0.0  ...   0.0   \n",
      "3   0.0   0.0   0.0   0.0   0.0   0.0   0.0   0.0   0.0   0.0  ...   0.0   \n",
      "4   0.0   0.0   0.0   0.0   0.0   0.0   0.0   0.0   0.0   0.0  ...   0.0   \n",
      "\n",
      "   1010  1011  1012  1013  1014  1015  1016  1017  1018  \n",
      "0   0.0   0.0   0.0   0.0   0.0   0.0   0.0   0.0   0.0  \n",
      "1   0.0   0.0   0.0   0.0   0.0   0.0   0.0   0.0   0.0  \n",
      "2   0.0   0.0   0.0   0.0   0.0   0.0   0.0   0.0   0.0  \n",
      "3   0.0   0.0   0.0   0.0   0.0   0.0   0.0   0.0   0.0  \n",
      "4   0.0   0.0   0.0   0.0   0.0   0.0   0.0   0.0   0.0  \n",
      "\n",
      "[5 rows x 1019 columns]\n"
     ]
    }
   ],
   "source": [
    "print(vect_text.shape)\n",
    "print(df.head(5))"
   ]
  },
  {
   "cell_type": "markdown",
   "id": "8ad63bab",
   "metadata": {},
   "source": [
    "Setelah Tf-idf berhasil dilakukan, kita bisa melihat kata yang paling sering muncul dan kata yang paling jarang muncul berdasarkan nilai Tf-idf diatas. Semakin kecil nilainya maka dia sering digunakan, sedangkan jika besar nilainya maka dia jarang digunakan."
   ]
  },
  {
   "cell_type": "code",
   "execution_count": 78,
   "id": "93794093",
   "metadata": {
    "scrolled": true
   },
   "outputs": [
    {
     "name": "stdout",
     "output_type": "stream",
     "text": [
      "penelitian zulkifli\n",
      "1.0359320092260633\n",
      "6.8289456176102075\n"
     ]
    }
   ],
   "source": [
    "idf=vect.idf_\n",
    "dd=dict(zip(vect.get_feature_names_out(), idf))\n",
    "l=sorted(dd, key=(dd).get)\n",
    "# print(l)\n",
    "print(l[0],l[-1])\n",
    "print(dd['penelitian'])\n",
    "print(dd['with'])"
   ]
  },
  {
   "cell_type": "markdown",
   "id": "abb6337e",
   "metadata": {},
   "source": [
    "Dapat dilihat bahwa kata penilitian adalah kata paling sering muncul, sedangkan kata zulkifli adalah kata paling jarang muncul"
   ]
  },
  {
   "cell_type": "markdown",
   "id": "c71a97f3",
   "metadata": {},
   "source": [
    "## Singular Value Decomposition (SVD)"
   ]
  },
  {
   "cell_type": "markdown",
   "id": "3a7ba8b8",
   "metadata": {},
   "source": [
    "Singular Value Decomposition (SVD) adalah teknik pada aljabar linear yang memfaktorkan sembarang matrix menjadi 3 matrix yang berbeda, yaitu:\n",
    "<ul>\n",
    "    <li>U = Matrix kolom ortogonal</li>\n",
    "    <li>V = Matrix baris ortogonal</li>\n",
    "    <li>S = Satu Singular Matrix</li>\n",
    "</ul>\n",
    "Sementara itu ada yang namanya Truncated singular value decomposition (SVD), dimana Truncated SVD merupakan kunci untuk mendapatkan topik dari kumpulan dokumen yang diberikan. Rumus dari Truncated SVD kurang lebih seperti ini $A=U S V^{T}$, dimana :\n",
    "<ul>\n",
    "    <li>A mewakili document-term matrix, dengan nilai berbasis hitungan yang ditetapkan di antara setiap dokumen dan pasangan kata. Matrix tersebut memiliki dimensi n x m, dengan n mewakili jumlah dokumen dan m mewakili jumlah kata.</li>\n",
    "    <li>U mewakili document-topic matrix. Pada dasarnya, nilainya menunjukkan kekuatan hubungan antara setiap dokumen dan topik turunannya. Matriks memiliki n x r dimensi, dengan n mewakili jumlah dokumen dan r mewakili jumlah topik.</li>\n",
    "    <li>S mewakili matriks diagonal yang mengevaluasi \"Strength\" setiap topik dalam kumpulan dokumen. Matrix memiliki r x r dimensi, dengan r mewakili jumlah topik.</li>\n",
    "    <li>V mewakili word-topic matrix. Nilai-nilainya menunjukkan kekuatan asosiasi antara setiap kata dan topik yang diturunkan. Matrix tersebut memiliki dimensi m x r, dengan m mewakili jumlah kata dan r mewakili jumlah topik.</li>\n",
    "</ul>"
   ]
  },
  {
   "cell_type": "markdown",
   "id": "69385036",
   "metadata": {},
   "source": [
    "![Visualisasi Truncated SVD](visualisasi.png)"
   ]
  },
  {
   "cell_type": "code",
   "execution_count": 79,
   "id": "a186bafa",
   "metadata": {},
   "outputs": [
    {
     "name": "stdout",
     "output_type": "stream",
     "text": [
      "[[ 0.32494921 -0.05072706  0.10147945 ...  0.26348577 -0.1322387\n",
      "   0.02470223]\n",
      " [ 0.06506129  0.00303611  0.07600642 ...  0.06568062 -0.04398916\n",
      "  -0.01552687]\n",
      " [ 0.09983554  0.02751372  0.07914103 ...  0.03118981 -0.01749099\n",
      "  -0.00093815]\n",
      " ...\n",
      " [ 0.18576094  0.17944265 -0.03389389 ... -0.02146789 -0.00413257\n",
      "  -0.01971572]\n",
      " [ 0.26009898  0.2311449  -0.02423871 ... -0.03238623 -0.07503857\n",
      "   0.04875503]\n",
      " [ 0.18592879  0.18223547 -0.07291245 ...  0.10379249  0.10225726\n",
      "  -0.00097356]]\n",
      "(1019, 10)\n"
     ]
    }
   ],
   "source": [
    "lsa_model = TruncatedSVD(n_components=10, algorithm='randomized', n_iter=10, random_state=42)\n",
    "lsa_top=lsa_model.fit_transform(vect_text)\n",
    "\n",
    "print(lsa_top)\n",
    "print(lsa_top.shape)"
   ]
  },
  {
   "cell_type": "code",
   "execution_count": 80,
   "id": "f59f4a15",
   "metadata": {},
   "outputs": [
    {
     "name": "stdout",
     "output_type": "stream",
     "text": [
      "Document 0 :\n",
      "Topic  0  :  32.494921340633894\n",
      "Topic  1  :  -5.072705513928369\n",
      "Topic  2  :  10.147945263658718\n",
      "Topic  3  :  -0.35247924376917145\n",
      "Topic  4  :  -19.461964989913266\n",
      "Topic  5  :  -3.6659787297103037\n",
      "Topic  6  :  -12.097287139063875\n",
      "Topic  7  :  26.34857694567326\n",
      "Topic  8  :  -13.223869709653293\n",
      "Topic  9  :  2.470223052033785\n"
     ]
    }
   ],
   "source": [
    "l=lsa_top[0]\n",
    "print(\"Document 0 :\")\n",
    "for i,topic in enumerate(l):\n",
    "  print(\"Topic \",i,\" : \",topic*100)"
   ]
  },
  {
   "cell_type": "code",
   "execution_count": 81,
   "id": "1a4600a1",
   "metadata": {},
   "outputs": [
    {
     "name": "stdout",
     "output_type": "stream",
     "text": [
      "(10, 8904)\n",
      "[[ 2.68050456e-03  8.82213809e-05  8.82213809e-05 ...  6.78358245e-04\n",
      "   2.05914110e-04  2.22486547e-05]\n",
      " [-1.08118156e-03  6.63560210e-06  6.63560210e-06 ...  1.91219329e-03\n",
      "   5.30783733e-04  1.70802950e-05]\n",
      " [-7.15435339e-04 -8.14789047e-05 -8.14789047e-05 ... -1.09206337e-03\n",
      "  -3.78907301e-04 -3.95288150e-05]\n",
      " ...\n",
      " [ 1.04139370e-03  5.17643617e-05  5.17643617e-05 ...  3.49352296e-05\n",
      "  -8.04762155e-04 -7.53416776e-07]\n",
      " [-1.81550586e-03 -1.55891508e-04 -1.55891508e-04 ... -1.92060451e-03\n",
      "  -1.56945944e-03 -2.14865995e-04]\n",
      " [ 2.57220188e-04  7.75516107e-05  7.75516107e-05 ...  1.97054352e-03\n",
      "   1.25246526e-04 -6.39989141e-05]]\n"
     ]
    }
   ],
   "source": [
    "print(lsa_model.components_.shape)\n",
    "print(lsa_model.components_)"
   ]
  },
  {
   "cell_type": "markdown",
   "id": "054a217e",
   "metadata": {},
   "source": [
    "## Mengekstrak Topic dan Term"
   ]
  },
  {
   "cell_type": "markdown",
   "id": "3e178cc3",
   "metadata": {},
   "source": [
    "Setelah dilakukan Truncated Matrix, sekarang kita dapat melakukan ekstrak topik dokumen. Pada percobaan kali ini, dilakukan extrak sebanyak 10 topik."
   ]
  },
  {
   "cell_type": "code",
   "execution_count": 82,
   "id": "11457d2d",
   "metadata": {},
   "outputs": [
    {
     "name": "stdout",
     "output_type": "stream",
     "text": [
      "Topic 0: \n",
      "kerja karyawan kinerja variabel berpengaruh nilai signifikan perusahaan penelitian positif \n",
      "\n",
      "Topic 1: \n",
      "perusahaan Ratio saham Return Bursa Efek Perusahaan Equity Indonesia to \n",
      "\n",
      "Topic 2: \n",
      "keputusan pembelian produk merek konsumen kualitas uji variabel promosi Keputusan \n",
      "\n",
      "Topic 3: \n",
      "Ratio Equity Return On Debt saham to Earning Per Share \n",
      "\n",
      "Topic 4: \n",
      "kerja kepuasan saham split stock produktivitas prestasi perusahaan stres Kerja \n",
      "\n",
      "Topic 5: \n",
      "saham split stock kinerja Tbk return PT karyawan volume harga \n",
      "\n",
      "Topic 6: \n",
      "Bank Tbk PT Loan LDR CAR NPL ROA rasio keuangan \n",
      "\n",
      "Topic 7: \n",
      "pegawai split X stock kepuasan saham Kabupaten volume Pegawai LDR \n",
      "\n",
      "Topic 8: \n",
      "karyawan split stock Loan LDR CAR NPL BOPO ROA saham \n",
      "\n",
      "Topic 9: \n",
      "ratio debt equity to current asset turnover total split stock \n",
      "\n"
     ]
    }
   ],
   "source": [
    "vocab = vect.get_feature_names_out()\n",
    "\n",
    "for i, comp in enumerate(lsa_model.components_):\n",
    "    vocab_comp = zip(vocab, comp)\n",
    "    sorted_words = sorted(vocab_comp, key= lambda x:x[1], reverse=True)[:10]\n",
    "    print(\"Topic \"+str(i)+\": \")\n",
    "    for t in sorted_words:\n",
    "        print(t[0],end=\" \")\n",
    "    print(\"\\n\")"
   ]
  }
 ],
 "metadata": {
  "kernelspec": {
   "display_name": "Python 3 (ipykernel)",
   "language": "python",
   "name": "python3"
  },
  "language_info": {
   "codemirror_mode": {
    "name": "ipython",
    "version": 3
   },
   "file_extension": ".py",
   "mimetype": "text/x-python",
   "name": "python",
   "nbconvert_exporter": "python",
   "pygments_lexer": "ipython3",
   "version": "3.10.2"
  }
 },
 "nbformat": 4,
 "nbformat_minor": 5
}
